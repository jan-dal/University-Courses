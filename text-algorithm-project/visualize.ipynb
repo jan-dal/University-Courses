{
 "cells": [
  {
   "cell_type": "code",
   "execution_count": 1,
   "id": "f72f51a1-ed0b-4f7a-b01b-67ac4ac709a1",
   "metadata": {},
   "outputs": [],
   "source": [
    "import pandas as pd\n",
    "import numpy as np\n",
    "import plotly.express as px\n",
    "from scipy.stats import linregress"
   ]
  },
  {
   "cell_type": "code",
   "execution_count": 6,
   "id": "649cbec7-8824-4f91-a550-3bda721eb16e",
   "metadata": {},
   "outputs": [],
   "source": [
    "lpf_time_data = pd.read_csv(\"results/lpf_bench_fib_results.csv\")\n",
    "sa_time_data = pd.read_csv(\"results/sa_bench_results_fib.csv\")"
   ]
  },
  {
   "cell_type": "code",
   "execution_count": 10,
   "id": "12ecac7d-19c7-4bb0-acb1-a47c77859f69",
   "metadata": {},
   "outputs": [],
   "source": [
    "fig = px.scatter(lpf_time_data, y=[\"ALG\", \"NALG\"],  x=\"IN_LEN\", log_y=True, log_x=True, \n",
    "                 title=\"Runing times of O(n) vs naive O(n³) algorithm on fibonacci words for LPF tables.\",\n",
    "                 labels={\n",
    "                     \"IN_LEN\": \"Number of characters\",\n",
    "                     \"value\": \"Time (ns)\",\n",
    "                     \"variable\": \"Algorithm\",\n",
    "                 })\n",
    "\n",
    "newnames = {'ALG':'Fast impl.', 'NALG': 'Naive impl.'}\n",
    "fig.for_each_trace(lambda t: t.update(name = newnames[t.name],\n",
    "                                      legendgroup = newnames[t.name],\n",
    "                                      hovertemplate = t.hovertemplate.replace(t.name, newnames[t.name])\n",
    "                                     )\n",
    "                  )\n",
    "# fig.show()\n",
    "fig.write_image(\"results/lpf_fib_benchmark.png\")"
   ]
  },
  {
   "cell_type": "code",
   "execution_count": 9,
   "id": "175a5690-3899-4e06-856f-2b83deb53187",
   "metadata": {},
   "outputs": [],
   "source": [
    "fig = px.scatter(sa_time_data, y=[\"ALG\", \"NALG\"],  x=\"IN_LEN\", log_y=True, log_x=True, \n",
    "                 title=\"Runing times of O(n) vs naive O(nlogn) algorithm on fibonacci words for suffix tables.\",\n",
    "                 labels={\n",
    "                     \"IN_LEN\": \"Number of characters\",\n",
    "                     \"value\": \"Time (ns)\",\n",
    "                     \"variable\": \"Algorithm\",\n",
    "                 })\n",
    "\n",
    "newnames = {'ALG':'Fast impl.', 'NALG': 'Naive impl.'}\n",
    "fig.for_each_trace(lambda t: t.update(name = newnames[t.name],\n",
    "                                      legendgroup = newnames[t.name],\n",
    "                                      hovertemplate = t.hovertemplate.replace(t.name, newnames[t.name])\n",
    "                                     )\n",
    "                  )\n",
    "# fig.show()\n",
    "fig.write_image(\"results/sa_fib_benchmark.png\")"
   ]
  }
 ],
 "metadata": {
  "kernelspec": {
   "display_name": "Python 3 (ipykernel)",
   "language": "python",
   "name": "python3"
  },
  "language_info": {
   "codemirror_mode": {
    "name": "ipython",
    "version": 3
   },
   "file_extension": ".py",
   "mimetype": "text/x-python",
   "name": "python",
   "nbconvert_exporter": "python",
   "pygments_lexer": "ipython3",
   "version": "3.13.1"
  }
 },
 "nbformat": 4,
 "nbformat_minor": 5
}
